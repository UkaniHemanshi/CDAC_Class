{
 "cells": [
  {
   "cell_type": "markdown",
   "metadata": {},
   "source": [
    "# Numpy Assignments"
   ]
  },
  {
   "cell_type": "markdown",
   "metadata": {},
   "source": [
    "<div class = \"alert alert-block alert-info\"\n",
    "    <b>1. Write a NumPy program to get the numpy version and show numpy build configuration.</b>\n",
    "</div>   "
   ]
  },
  {
   "cell_type": "code",
   "execution_count": 1,
   "metadata": {},
   "outputs": [],
   "source": [
    "import numpy as np"
   ]
  },
  {
   "cell_type": "code",
   "execution_count": 5,
   "metadata": {},
   "outputs": [
    {
     "data": {
      "text/plain": [
       "'1.24.4'"
      ]
     },
     "execution_count": 5,
     "metadata": {},
     "output_type": "execute_result"
    }
   ],
   "source": [
    "np. __version__"
   ]
  },
  {
   "cell_type": "code",
   "execution_count": 6,
   "metadata": {},
   "outputs": [
    {
     "name": "stdout",
     "output_type": "stream",
     "text": [
      "openblas64__info:\n",
      "    libraries = ['openblas64_', 'openblas64_']\n",
      "    library_dirs = ['openblas\\\\lib']\n",
      "    language = c\n",
      "    define_macros = [('HAVE_CBLAS', None), ('BLAS_SYMBOL_SUFFIX', '64_'), ('HAVE_BLAS_ILP64', None)]\n",
      "    runtime_library_dirs = ['openblas\\\\lib']\n",
      "blas_ilp64_opt_info:\n",
      "    libraries = ['openblas64_', 'openblas64_']\n",
      "    library_dirs = ['openblas\\\\lib']\n",
      "    language = c\n",
      "    define_macros = [('HAVE_CBLAS', None), ('BLAS_SYMBOL_SUFFIX', '64_'), ('HAVE_BLAS_ILP64', None)]\n",
      "    runtime_library_dirs = ['openblas\\\\lib']\n",
      "openblas64__lapack_info:\n",
      "    libraries = ['openblas64_', 'openblas64_']\n",
      "    library_dirs = ['openblas\\\\lib']\n",
      "    language = c\n",
      "    define_macros = [('HAVE_CBLAS', None), ('BLAS_SYMBOL_SUFFIX', '64_'), ('HAVE_BLAS_ILP64', None), ('HAVE_LAPACKE', None)]\n",
      "    runtime_library_dirs = ['openblas\\\\lib']\n",
      "lapack_ilp64_opt_info:\n",
      "    libraries = ['openblas64_', 'openblas64_']\n",
      "    library_dirs = ['openblas\\\\lib']\n",
      "    language = c\n",
      "    define_macros = [('HAVE_CBLAS', None), ('BLAS_SYMBOL_SUFFIX', '64_'), ('HAVE_BLAS_ILP64', None), ('HAVE_LAPACKE', None)]\n",
      "    runtime_library_dirs = ['openblas\\\\lib']\n",
      "Supported SIMD extensions in this NumPy install:\n",
      "    baseline = SSE,SSE2,SSE3\n",
      "    found = SSSE3,SSE41,POPCNT,SSE42,AVX,F16C,FMA3,AVX2,AVX512F,AVX512CD,AVX512_SKX,AVX512_CLX\n",
      "    not found = AVX512_CNL,AVX512_ICL\n",
      "None\n"
     ]
    }
   ],
   "source": [
    "print(np.show_config())"
   ]
  },
  {
   "cell_type": "markdown",
   "metadata": {},
   "source": [
    "<div class = \"alert alert-block alert-info\"\n",
    "    <b>2. Write a NumPy program to get help on the add function.</b>\n",
    "</div>   "
   ]
  },
  {
   "cell_type": "code",
   "execution_count": 16,
   "metadata": {},
   "outputs": [
    {
     "name": "stdout",
     "output_type": "stream",
     "text": [
      "Array 1 : \n",
      " [[1 2]\n",
      " [3 4]\n",
      " [5 6]]\n",
      "Array 2 : \n",
      " [[2 8]\n",
      " [4 6]\n",
      " [8 5]]\n",
      "Apply Add Function to a1 and a2 : \n",
      " [[ 3 10]\n",
      " [ 7 10]\n",
      " [13 11]]\n"
     ]
    }
   ],
   "source": [
    "a1 = np.array([[1,2],[3,4],[5,6]])\n",
    "a2 = np.array([[2,8],[4,6],[8,5]])\n",
    "print(f\"Array 1 : \\n {a1}\")\n",
    "print(f\"Array 2 : \\n {a2}\")\n",
    "print(f\"Apply Add Function to a1 and a2 : \\n {np.add(a1,a2)}\")"
   ]
  },
  {
   "cell_type": "markdown",
   "metadata": {},
   "source": [
    "<div class = \"alert alert-block alert-info\"\n",
    "    <b>3. Write a NumPy program to test whether none of the elements of a given array is zero.</b>\n",
    "</div>   "
   ]
  },
  {
   "cell_type": "code",
   "execution_count": 19,
   "metadata": {},
   "outputs": [
    {
     "name": "stdout",
     "output_type": "stream",
     "text": [
      "False\n"
     ]
    }
   ],
   "source": [
    "x2 = np.array([0, 2, 3, 4])\n",
    "print(x2.all())   # gives false if any one element is zero"
   ]
  },
  {
   "cell_type": "markdown",
   "metadata": {},
   "source": [
    "<div class = \"alert alert-block alert-info\"\n",
    "    <b>4. Write a NumPy program to test whether any of the elements of a given array is non-zero.</b>\n",
    "</div>   "
   ]
  },
  {
   "cell_type": "code",
   "execution_count": 20,
   "metadata": {},
   "outputs": [
    {
     "name": "stdout",
     "output_type": "stream",
     "text": [
      "True\n"
     ]
    }
   ],
   "source": [
    "x1 = np.array([1, 2, 3, 4])\n",
    "print(x1.all())   # gives true if all are non-zero"
   ]
  },
  {
   "cell_type": "markdown",
   "metadata": {},
   "source": [
    "<div class = \"alert alert-block alert-info\"\n",
    "    <b>5. Write a NumPy program to test a given array element-wise for finiteness (not infinity or not a Number).</b>\n",
    "</div>   "
   ]
  },
  {
   "cell_type": "code",
   "execution_count": 23,
   "metadata": {},
   "outputs": [
    {
     "name": "stdout",
     "output_type": "stream",
     "text": [
      "Original array: [ 1.  0. nan inf]\n",
      "\n",
      "Test a given array element-wise for finiteness: [ True  True False False]\n"
     ]
    }
   ],
   "source": [
    "arr1 = np.array([1, 0, np.nan, np.inf])    # not a number or not infinity\n",
    "print(f\"Original array: {arr1}\\n\")\n",
    "\n",
    "print(f\"Test a given array element-wise for finiteness: {np.isfinite(arr1)}\")"
   ]
  },
  {
   "cell_type": "markdown",
   "metadata": {},
   "source": [
    "<div class = \"alert alert-block alert-info\"\n",
    "    <b>6. Write a NumPy program to test element-wise for positive or negative infinity.</b>\n",
    "</div>   "
   ]
  },
  {
   "cell_type": "code",
   "execution_count": 26,
   "metadata": {},
   "outputs": [
    {
     "name": "stdout",
     "output_type": "stream",
     "text": [
      "Original array: [  1.   0. -inf  inf]\n",
      "\n",
      "To test element-wise for positive infinity: [False False False  True]\n",
      "\n",
      "To test element-wise for negative infinity: [False False  True False]\n",
      "\n"
     ]
    }
   ],
   "source": [
    "arr2 = np.array([1, 0, -np.inf, np.inf]) \n",
    "print(f\"Original array: {arr2}\\n\")\n",
    "\n",
    "print(f\"To test element-wise for positive infinity: {np.isposinf(arr2)}\\n\")    # for positive infinity find\n",
    "print(f\"To test element-wise for negative infinity: {np.isneginf(arr2)}\\n\")    # for negative infinity find"
   ]
  },
  {
   "cell_type": "markdown",
   "metadata": {},
   "source": [
    "<div class = \"alert alert-block alert-info\"\n",
    "    <b>7. Write a NumPy program to test element-wise for NaN of a given array.</b>\n",
    "</div>   "
   ]
  },
  {
   "cell_type": "code",
   "execution_count": 39,
   "metadata": {},
   "outputs": [
    {
     "name": "stdout",
     "output_type": "stream",
     "text": [
      "Original array: [ 1.  0. nan  4.]\n",
      "\n",
      "To test element-wise for NaN: [False False  True False]\n",
      "\n"
     ]
    }
   ],
   "source": [
    "arr3 = np.array([1, 0, np.nan, 4])   \n",
    "print(f\"Original array: {arr3}\\n\")\n",
    "\n",
    "print(f\"To test element-wise for NaN: {np.isnan(arr3)}\\n\")    # for test nan by element-wise"
   ]
  },
  {
   "cell_type": "markdown",
   "metadata": {},
   "source": [
    "<div class = \"alert alert-block alert-info\"\n",
    "    <b>8. Write a NumPy program to test element-wise for complex number, real number of a given array. Also\n",
    "test whether a given number is a scalar type or not.</b>\n",
    "</div>   "
   ]
  },
  {
   "cell_type": "code",
   "execution_count": 30,
   "metadata": {},
   "outputs": [
    {
     "name": "stdout",
     "output_type": "stream",
     "text": [
      "Original array: [1. +2.j 2. +0.j 4.5+0.j 3. +0.j 4. +0.j 0. +2.j 0. +4.j]\n",
      "\n",
      "To test element-wise for complex: [ True False False False False  True  True]\n",
      "\n",
      "To test element-wise for real: [False  True  True  True  True False False]\n",
      "\n",
      "To test element for scalar: True\n",
      "\n"
     ]
    }
   ],
   "source": [
    "arr4 = np.array([1+2j, 2+0j, 4.5, 3, 4, 2j, 4j])\n",
    "print(f\"Original array: {arr4}\\n\")\n",
    "\n",
    "print(f\"To test element-wise for complex: {np.iscomplex(arr4)}\\n\")    # for test complex num\n",
    "print(f\"To test element-wise for real: {np.isreal(arr4)}\\n\")    # for test real num\n",
    "print(f\"To test element for scalar: {np.isscalar(3.4)}\\n\")    # for test complex num"
   ]
  },
  {
   "cell_type": "markdown",
   "metadata": {},
   "source": [
    "<div class = \"alert alert-block alert-info\"\n",
    "    <b>9. Write a NumPy program to create an element-wise comparison (greater, greater_equal, less and\n",
    "less_equal) of two given arrays.</b>\n",
    "</div>   "
   ]
  },
  {
   "cell_type": "code",
   "execution_count": 37,
   "metadata": {},
   "outputs": [
    {
     "name": "stdout",
     "output_type": "stream",
     "text": [
      "Original array x: [1 5]\n",
      "\n",
      "Original array y: [2 5]\n",
      "\n",
      "To test Greater: [False False]\n",
      "\n",
      "To test Greater Or Equal : [False  True]\n",
      "\n",
      "To test lesser: [ True False]\n",
      "\n",
      "To test lesser Or Equal : [ True  True]\n",
      "\n"
     ]
    }
   ],
   "source": [
    "x = np.array([1, 5])\n",
    "y = np.array([2, 5])\n",
    "print(f\"Original array x: {x}\\n\")\n",
    "print(f\"Original array y: {y}\\n\")\n",
    "\n",
    "print(f\"To test Greater: {np.greater(x,y)}\\n\")\n",
    "print(f\"To test Greater Or Equal : {np.greater_equal(x,y)}\\n\")\n",
    "\n",
    "print(f\"To test lesser: {np.less(x,y)}\\n\")\n",
    "print(f\"To test lesser Or Equal : {np.less_equal(x,y)}\\n\")"
   ]
  },
  {
   "cell_type": "markdown",
   "metadata": {},
   "source": [
    "<div class = \"alert alert-block alert-info\"\n",
    "    <b>10. Write a NumPy program to create an array with the values 1, 7, 13, 105 and determine the size of the\n",
    "memory occupied by the array.</b>\n",
    "</div>   "
   ]
  },
  {
   "cell_type": "code",
   "execution_count": 43,
   "metadata": {},
   "outputs": [
    {
     "name": "stdout",
     "output_type": "stream",
     "text": [
      "Original array b1: [  1   7  13 105]\n",
      "\n",
      "Determine the size of the memory occupied by the array: 16\n"
     ]
    }
   ],
   "source": [
    "b1 = np.array([1, 7, 13, 105])\n",
    "print(f\"Original array b1: {b1}\\n\")\n",
    "\n",
    "print(f\"Determine the size of the memory occupied by the array: {b1.size * b1.itemsize}\")"
   ]
  },
  {
   "cell_type": "code",
   "execution_count": null,
   "metadata": {},
   "outputs": [],
   "source": [
    "<div class = \"alert alert-block alert-info\"\n",
    "    <b>11. Write a NumPy program to create an array of 10 zeros,10 ones, 10 fives.</b>\n",
    "</div>   "
   ]
  }
 ],
 "metadata": {
  "kernelspec": {
   "display_name": "Python 3",
   "language": "python",
   "name": "python3"
  },
  "language_info": {
   "codemirror_mode": {
    "name": "ipython",
    "version": 3
   },
   "file_extension": ".py",
   "mimetype": "text/x-python",
   "name": "python",
   "nbconvert_exporter": "python",
   "pygments_lexer": "ipython3",
   "version": "3.8.5"
  }
 },
 "nbformat": 4,
 "nbformat_minor": 4
}

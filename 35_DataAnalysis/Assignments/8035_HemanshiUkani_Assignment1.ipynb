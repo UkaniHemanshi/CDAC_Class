{
 "cells": [
  {
   "cell_type": "markdown",
   "metadata": {},
   "source": [
    "<center><b><h1>Assignment_1_Numpy</h1></b></center>"
   ]
  },
  {
   "cell_type": "markdown",
   "metadata": {},
   "source": [
    "<div class = \"alert alert-block alert-info\"\n",
    "    <b>1. Write a NumPy program to get the numpy version and show numpy build configuration.</b>\n",
    "</div>   "
   ]
  },
  {
   "cell_type": "code",
   "execution_count": 1,
   "metadata": {},
   "outputs": [],
   "source": [
    "import numpy as np"
   ]
  },
  {
   "cell_type": "code",
   "execution_count": 2,
   "metadata": {},
   "outputs": [
    {
     "data": {
      "text/plain": [
       "'1.24.4'"
      ]
     },
     "execution_count": 2,
     "metadata": {},
     "output_type": "execute_result"
    }
   ],
   "source": [
    "np. __version__"
   ]
  },
  {
   "cell_type": "code",
   "execution_count": 3,
   "metadata": {},
   "outputs": [
    {
     "name": "stdout",
     "output_type": "stream",
     "text": [
      "openblas64__info:\n",
      "    libraries = ['openblas64_', 'openblas64_']\n",
      "    library_dirs = ['openblas\\\\lib']\n",
      "    language = c\n",
      "    define_macros = [('HAVE_CBLAS', None), ('BLAS_SYMBOL_SUFFIX', '64_'), ('HAVE_BLAS_ILP64', None)]\n",
      "    runtime_library_dirs = ['openblas\\\\lib']\n",
      "blas_ilp64_opt_info:\n",
      "    libraries = ['openblas64_', 'openblas64_']\n",
      "    library_dirs = ['openblas\\\\lib']\n",
      "    language = c\n",
      "    define_macros = [('HAVE_CBLAS', None), ('BLAS_SYMBOL_SUFFIX', '64_'), ('HAVE_BLAS_ILP64', None)]\n",
      "    runtime_library_dirs = ['openblas\\\\lib']\n",
      "openblas64__lapack_info:\n",
      "    libraries = ['openblas64_', 'openblas64_']\n",
      "    library_dirs = ['openblas\\\\lib']\n",
      "    language = c\n",
      "    define_macros = [('HAVE_CBLAS', None), ('BLAS_SYMBOL_SUFFIX', '64_'), ('HAVE_BLAS_ILP64', None), ('HAVE_LAPACKE', None)]\n",
      "    runtime_library_dirs = ['openblas\\\\lib']\n",
      "lapack_ilp64_opt_info:\n",
      "    libraries = ['openblas64_', 'openblas64_']\n",
      "    library_dirs = ['openblas\\\\lib']\n",
      "    language = c\n",
      "    define_macros = [('HAVE_CBLAS', None), ('BLAS_SYMBOL_SUFFIX', '64_'), ('HAVE_BLAS_ILP64', None), ('HAVE_LAPACKE', None)]\n",
      "    runtime_library_dirs = ['openblas\\\\lib']\n",
      "Supported SIMD extensions in this NumPy install:\n",
      "    baseline = SSE,SSE2,SSE3\n",
      "    found = SSSE3,SSE41,POPCNT,SSE42,AVX,F16C,FMA3,AVX2,AVX512F,AVX512CD,AVX512_SKX,AVX512_CLX\n",
      "    not found = AVX512_CNL,AVX512_ICL\n",
      "None\n"
     ]
    }
   ],
   "source": [
    "print(np.show_config())"
   ]
  },
  {
   "cell_type": "markdown",
   "metadata": {},
   "source": [
    "<div class = \"alert alert-block alert-info\"\n",
    "    <b>2. Write a NumPy program to get help on the add function.</b>\n",
    "</div>   "
   ]
  },
  {
   "cell_type": "code",
   "execution_count": 4,
   "metadata": {},
   "outputs": [
    {
     "name": "stdout",
     "output_type": "stream",
     "text": [
      "Array 1 : \n",
      " [[1 2]\n",
      " [3 4]\n",
      " [5 6]]\n",
      "Array 2 : \n",
      " [[2 8]\n",
      " [4 6]\n",
      " [8 5]]\n",
      "Apply Add Function to a1 and a2 : \n",
      " [[ 3 10]\n",
      " [ 7 10]\n",
      " [13 11]]\n"
     ]
    }
   ],
   "source": [
    "a1 = np.array([[1,2],[3,4],[5,6]])\n",
    "a2 = np.array([[2,8],[4,6],[8,5]])\n",
    "print(f\"Array 1 : \\n {a1}\")\n",
    "print(f\"Array 2 : \\n {a2}\")\n",
    "print(f\"Apply Add Function to a1 and a2 : \\n {np.add(a1,a2)}\")"
   ]
  },
  {
   "cell_type": "markdown",
   "metadata": {},
   "source": [
    "<div class = \"alert alert-block alert-info\"\n",
    "    <b>3. Write a NumPy program to test whether none of the elements of a given array is zero.</b>\n",
    "</div>   "
   ]
  },
  {
   "cell_type": "code",
   "execution_count": 5,
   "metadata": {},
   "outputs": [
    {
     "name": "stdout",
     "output_type": "stream",
     "text": [
      "False\n"
     ]
    }
   ],
   "source": [
    "x2 = np.array([0, 2, 3, 4])\n",
    "print(x2.all())   # gives false if any one element is zero"
   ]
  },
  {
   "cell_type": "markdown",
   "metadata": {},
   "source": [
    "<div class = \"alert alert-block alert-info\"\n",
    "    <b>4. Write a NumPy program to test whether any of the elements of a given array is non-zero.</b>\n",
    "</div>   "
   ]
  },
  {
   "cell_type": "code",
   "execution_count": 6,
   "metadata": {},
   "outputs": [
    {
     "name": "stdout",
     "output_type": "stream",
     "text": [
      "True\n"
     ]
    }
   ],
   "source": [
    "x1 = np.array([1, 2, 3, 4])\n",
    "print(x1.all())   # gives true if all are non-zero"
   ]
  },
  {
   "cell_type": "markdown",
   "metadata": {},
   "source": [
    "<div class = \"alert alert-block alert-info\"\n",
    "    <b>5. Write a NumPy program to test a given array element-wise for finiteness (not infinity or not a Number).</b>\n",
    "</div>   "
   ]
  },
  {
   "cell_type": "code",
   "execution_count": 7,
   "metadata": {},
   "outputs": [
    {
     "name": "stdout",
     "output_type": "stream",
     "text": [
      "Original array: [ 1.  0. nan inf]\n",
      "\n",
      "Test a given array element-wise for finiteness: [ True  True False False]\n"
     ]
    }
   ],
   "source": [
    "arr1 = np.array([1, 0, np.nan, np.inf])    # not a number or not infinity\n",
    "print(f\"Original array: {arr1}\\n\")\n",
    "\n",
    "print(f\"Test a given array element-wise for finiteness: {np.isfinite(arr1)}\")"
   ]
  },
  {
   "cell_type": "markdown",
   "metadata": {},
   "source": [
    "<div class = \"alert alert-block alert-info\"\n",
    "    <b>6. Write a NumPy program to test element-wise for positive or negative infinity.</b>\n",
    "</div>   "
   ]
  },
  {
   "cell_type": "code",
   "execution_count": 8,
   "metadata": {},
   "outputs": [
    {
     "name": "stdout",
     "output_type": "stream",
     "text": [
      "Original array: [  1.   0. -inf  inf]\n",
      "\n",
      "To test element-wise for positive infinity: [False False False  True]\n",
      "\n",
      "To test element-wise for negative infinity: [False False  True False]\n",
      "\n"
     ]
    }
   ],
   "source": [
    "arr2 = np.array([1, 0, -np.inf, np.inf]) \n",
    "print(f\"Original array: {arr2}\\n\")\n",
    "\n",
    "print(f\"To test element-wise for positive infinity: {np.isposinf(arr2)}\\n\")    # for positive infinity find\n",
    "print(f\"To test element-wise for negative infinity: {np.isneginf(arr2)}\\n\")    # for negative infinity find"
   ]
  },
  {
   "cell_type": "markdown",
   "metadata": {},
   "source": [
    "<div class = \"alert alert-block alert-info\"\n",
    "    <b>7. Write a NumPy program to test element-wise for NaN of a given array.</b>\n",
    "</div>   "
   ]
  },
  {
   "cell_type": "code",
   "execution_count": 9,
   "metadata": {},
   "outputs": [
    {
     "name": "stdout",
     "output_type": "stream",
     "text": [
      "Original array: [ 1.  0. nan  4.]\n",
      "\n",
      "To test element-wise for NaN: [False False  True False]\n",
      "\n"
     ]
    }
   ],
   "source": [
    "arr3 = np.array([1, 0, np.nan, 4])   \n",
    "print(f\"Original array: {arr3}\\n\")\n",
    "\n",
    "print(f\"To test element-wise for NaN: {np.isnan(arr3)}\\n\")    # for test nan by element-wise"
   ]
  },
  {
   "cell_type": "markdown",
   "metadata": {},
   "source": [
    "<div class = \"alert alert-block alert-info\"\n",
    "    <b>8. Write a NumPy program to test element-wise for complex number, real number of a given array. Also\n",
    "test whether a given number is a scalar type or not.</b>\n",
    "</div>   "
   ]
  },
  {
   "cell_type": "code",
   "execution_count": 10,
   "metadata": {},
   "outputs": [
    {
     "name": "stdout",
     "output_type": "stream",
     "text": [
      "Original array: [1. +2.j 2. +0.j 4.5+0.j 3. +0.j 4. +0.j 0. +2.j 0. +4.j]\n",
      "\n",
      "To test element-wise for complex: [ True False False False False  True  True]\n",
      "\n",
      "To test element-wise for real: [False  True  True  True  True False False]\n",
      "\n",
      "To test element for scalar: True\n",
      "\n"
     ]
    }
   ],
   "source": [
    "arr4 = np.array([1+2j, 2+0j, 4.5, 3, 4, 2j, 4j])\n",
    "print(f\"Original array: {arr4}\\n\")\n",
    "\n",
    "print(f\"To test element-wise for complex: {np.iscomplex(arr4)}\\n\")    # for test complex num\n",
    "print(f\"To test element-wise for real: {np.isreal(arr4)}\\n\")    # for test real num\n",
    "print(f\"To test element for scalar: {np.isscalar(3.4)}\\n\")    # for test complex num"
   ]
  },
  {
   "cell_type": "markdown",
   "metadata": {},
   "source": [
    "<div class = \"alert alert-block alert-info\"\n",
    "    <b>9. Write a NumPy program to create an element-wise comparison (greater, greater_equal, less and\n",
    "less_equal) of two given arrays.</b>\n",
    "</div>   "
   ]
  },
  {
   "cell_type": "code",
   "execution_count": 11,
   "metadata": {},
   "outputs": [
    {
     "name": "stdout",
     "output_type": "stream",
     "text": [
      "Original array x: [1 5]\n",
      "\n",
      "Original array y: [2 5]\n",
      "\n",
      "To test Greater: [False False]\n",
      "\n",
      "To test Greater Or Equal : [False  True]\n",
      "\n",
      "To test lesser: [ True False]\n",
      "\n",
      "To test lesser Or Equal : [ True  True]\n",
      "\n"
     ]
    }
   ],
   "source": [
    "x = np.array([1, 5])\n",
    "y = np.array([2, 5])\n",
    "print(f\"Original array x: {x}\\n\")\n",
    "print(f\"Original array y: {y}\\n\")\n",
    "\n",
    "print(f\"To test Greater: {np.greater(x,y)}\\n\")\n",
    "print(f\"To test Greater Or Equal : {np.greater_equal(x,y)}\\n\")\n",
    "\n",
    "print(f\"To test lesser: {np.less(x,y)}\\n\")\n",
    "print(f\"To test lesser Or Equal : {np.less_equal(x,y)}\\n\")"
   ]
  },
  {
   "cell_type": "markdown",
   "metadata": {},
   "source": [
    "<div class = \"alert alert-block alert-info\"\n",
    "    <b>10. Write a NumPy program to create an array with the values 1, 7, 13, 105 and determine the size of the\n",
    "memory occupied by the array.</b>\n",
    "</div>   "
   ]
  },
  {
   "cell_type": "code",
   "execution_count": 12,
   "metadata": {},
   "outputs": [
    {
     "name": "stdout",
     "output_type": "stream",
     "text": [
      "Original array b1: [  1   7  13 105]\n",
      "\n",
      "Determine the size of the memory occupied by the array: 16\n"
     ]
    }
   ],
   "source": [
    "b1 = np.array([1, 7, 13, 105])\n",
    "print(f\"Original array b1: {b1}\\n\")\n",
    "\n",
    "print(f\"Determine the size of the memory occupied by the array: {b1.size * b1.itemsize}\")"
   ]
  },
  {
   "cell_type": "markdown",
   "metadata": {},
   "source": [
    "<div class = \"alert alert-block alert-info\"\n",
    "    <b>11. Write a NumPy program to create an array of 10 zeros,10 ones, 10 fives.</b>\n",
    "</div>   "
   ]
  },
  {
   "cell_type": "code",
   "execution_count": 13,
   "metadata": {},
   "outputs": [
    {
     "name": "stdout",
     "output_type": "stream",
     "text": [
      "To create an array of 10 zeros: [0. 0. 0. 0. 0. 0. 0. 0. 0. 0.]\n",
      "\n",
      "To create an array of 10 zeros: [1 1 1 1 1 1 1 1 1 1] \n",
      "\n",
      "To create an array of 10 zeros: [5 5 5 5 5 5 5 5 5 5] \n",
      "\n"
     ]
    }
   ],
   "source": [
    "print(f\"To create an array of 10 zeros: {np.zeros(10)}\\n\")\n",
    "\n",
    "print(f\"To create an array of 10 zeros: {np.ones(10,dtype=int)} \\n\")\n",
    "\n",
    "print(f\"To create an array of 10 zeros: {np.ones(10,int)*5} \\n\")"
   ]
  },
  {
   "cell_type": "markdown",
   "metadata": {},
   "source": [
    "<div class = \"alert alert-block alert-info\"\n",
    "    <b>12. Write a NumPy program to create an array of the integers from 30 to70.</b>\n",
    "</div>   "
   ]
  },
  {
   "cell_type": "code",
   "execution_count": 14,
   "metadata": {},
   "outputs": [
    {
     "name": "stdout",
     "output_type": "stream",
     "text": [
      "[ 30  31  32  33  34  35  36  37  38  39  40  41  42  43  44  45  46  47\n",
      "  48  49  50  51  52  53  54  55  56  57  58  59  60  61  62  63  64  65\n",
      "  66  67  68  69  70  71  72  73  74  75  76  77  78  79  80  81  82  83\n",
      "  84  85  86  87  88  89  90  91  92  93  94  95  96  97  98  99 100 101\n",
      " 102 103 104 105 106 107 108 109 110 111 112 113 114 115 116 117 118 119\n",
      " 120 121 122 123 124 125 126 127 128 129 130 131 132 133 134 135 136 137\n",
      " 138 139 140 141 142 143 144 145 146 147 148 149 150 151 152 153 154 155\n",
      " 156 157 158 159 160 161 162 163 164 165 166 167 168 169 170]\n"
     ]
    }
   ],
   "source": [
    "arr1 = np.arange(30,171)\n",
    "print(arr1)"
   ]
  },
  {
   "cell_type": "markdown",
   "metadata": {},
   "source": [
    "<div class = \"alert alert-block alert-info\"\n",
    "    <b>13. Write a NumPy program to create an array of all the even integers from 30 to 70.</b>\n",
    "</div>   "
   ]
  },
  {
   "cell_type": "code",
   "execution_count": 15,
   "metadata": {
    "scrolled": true
   },
   "outputs": [
    {
     "name": "stdout",
     "output_type": "stream",
     "text": [
      "[30 32 34 36 38 40 42 44 46 48 50 52 54 56 58 60 62 64 66 68]\n"
     ]
    }
   ],
   "source": [
    "arr2 = np.arange(30,70,2)\n",
    "print(arr2)"
   ]
  },
  {
   "cell_type": "markdown",
   "metadata": {},
   "source": [
    "<div class = \"alert alert-block alert-info\"\n",
    "    <b>14. Write a NumPy program to create a 3x3 identity matrix.</b>\n",
    "</div>   "
   ]
  },
  {
   "cell_type": "code",
   "execution_count": 16,
   "metadata": {},
   "outputs": [
    {
     "name": "stdout",
     "output_type": "stream",
     "text": [
      "[[1. 0. 0.]\n",
      " [0. 1. 0.]\n",
      " [0. 0. 1.]]\n"
     ]
    }
   ],
   "source": [
    "arr3 = np.eye(3,3)\n",
    "print(arr3)"
   ]
  },
  {
   "cell_type": "markdown",
   "metadata": {},
   "source": [
    "<div class = \"alert alert-block alert-info\"\n",
    "    <b>15. Write a NumPy program to generate a random number between 0 and 1.</b>\n",
    "</div>   "
   ]
  },
  {
   "cell_type": "code",
   "execution_count": 17,
   "metadata": {},
   "outputs": [
    {
     "name": "stdout",
     "output_type": "stream",
     "text": [
      "[0.41498892 0.64841336 0.53652153 0.01521831]\n"
     ]
    }
   ],
   "source": [
    "arr4 = np.random.rand(4)  # 4 is how many random number you want btn 0 and 1\n",
    "print(arr4)"
   ]
  },
  {
   "cell_type": "markdown",
   "metadata": {},
   "source": [
    "<div class = \"alert alert-block alert-info\"\n",
    "    <b>16. Write a NumPy program to generate an array of 15 random numbers from a standard normal distribution.</b>\n",
    "</div>   "
   ]
  },
  {
   "cell_type": "code",
   "execution_count": 18,
   "metadata": {},
   "outputs": [
    {
     "name": "stdout",
     "output_type": "stream",
     "text": [
      "[ 1.06185897 -0.3497823   1.56040166  0.81863032 -0.72819445  1.6979369\n",
      "  0.96683292  2.336639   -0.97609707  0.98122587  0.74125654 -0.59905206\n",
      "  2.03642491  0.31509342 -0.35656076]\n"
     ]
    }
   ],
   "source": [
    "arr5 = np.random.randn(15)\n",
    "print(arr5)"
   ]
  },
  {
   "cell_type": "markdown",
   "metadata": {},
   "source": [
    "<div class = \"alert alert-block alert-info\"\n",
    "    <b>17. Write a NumPy program to create a vector with values ranging from 15 to 55 and print all values\n",
    "except the first and last.</b>\n",
    "</div>   "
   ]
  },
  {
   "cell_type": "code",
   "execution_count": 19,
   "metadata": {},
   "outputs": [
    {
     "name": "stdout",
     "output_type": "stream",
     "text": [
      "Original array :\n",
      " [15 16 17 18 19 20 21 22 23 24 25 26 27 28 29 30 31 32 33 34 35 36 37 38\n",
      " 39 40 41 42 43 44 45 46 47 48 49 50 51 52 53 54] \n",
      "\n",
      "All values except the first and last of the said vector:\n",
      " [16 17 18 19 20 21 22 23 24 25 26 27 28 29 30 31 32 33 34 35 36 37 38 39\n",
      " 40 41 42 43 44 45 46 47 48 49 50 51 52 53]\n"
     ]
    }
   ],
   "source": [
    "arr6 = np.arange(15,55)\n",
    "print(f\"Original array :\\n {arr6} \\n\")\n",
    "\n",
    "print(f\"All values except the first and last of the said vector:\\n {arr6[1:-1]}\")"
   ]
  },
  {
   "cell_type": "markdown",
   "metadata": {},
   "source": [
    "<div class = \"alert alert-block alert-info\"\n",
    "    <b>18. Write a NumPy program to create a 3X4 array.</b>\n",
    "</div>   "
   ]
  },
  {
   "cell_type": "code",
   "execution_count": 20,
   "metadata": {},
   "outputs": [
    {
     "name": "stdout",
     "output_type": "stream",
     "text": [
      "Original array :\n",
      " [[1 2 3 4]\n",
      " [5 6 7 8]\n",
      " [2 8 3 9]] \n",
      "\n"
     ]
    }
   ],
   "source": [
    "arr7 = np.array([[1,2,3,4],[5,6,7,8],[2,8,3,9]])\n",
    "\n",
    "print(f\"Original array :\\n {arr7} \\n\")"
   ]
  },
  {
   "cell_type": "markdown",
   "metadata": {},
   "source": [
    "<div class = \"alert alert-block alert-info\"\n",
    "    <b>19. Write a NumPy program to create a vector of length 10 with values evenly distributed\n",
    "between 5 and 50.</b>\n",
    "</div>   "
   ]
  },
  {
   "cell_type": "code",
   "execution_count": 21,
   "metadata": {},
   "outputs": [
    {
     "name": "stdout",
     "output_type": "stream",
     "text": [
      "A vector of length 10 with values evenly distributed between 5 and 50 :\n",
      " [19 18 43 45 33 39 23 45 33 27] \n",
      "\n"
     ]
    }
   ],
   "source": [
    "arr8 = np.random.randint(5,50,10)\n",
    "print(f\"A vector of length 10 with values evenly distributed between 5 and 50 :\\n {arr8} \\n\")"
   ]
  },
  {
   "cell_type": "markdown",
   "metadata": {},
   "source": [
    "<div class = \"alert alert-block alert-info\"\n",
    "    <b>20. Write a NumPy program to create a vector with values from 0 to 20 and change the sign of the\n",
    "numbers in the range from 9 to 15.</b>\n",
    "</div>   "
   ]
  },
  {
   "cell_type": "code",
   "execution_count": 22,
   "metadata": {},
   "outputs": [
    {
     "name": "stdout",
     "output_type": "stream",
     "text": [
      "Original array :\n",
      " [ 0  1  2  3  4  5  6  7  8  9 10 11 12 13 14 15 16 17 18 19 20] \n",
      "\n",
      "change the sign of the numbers in the range from 9 to 15 :\n",
      " [  0   1   2   3   4   5   6   7   8  -9 -10 -11 -12 -13 -14 -15  16  17\n",
      "  18  19  20]\n"
     ]
    }
   ],
   "source": [
    "x = np.arange(21)\n",
    "print(f\"Original array :\\n {x} \\n\")\n",
    "\n",
    "x[(x >= 9) & (x <= 15)] *= -1\n",
    "\n",
    "print(f\"change the sign of the numbers in the range from 9 to 15 :\\n {x}\")"
   ]
  },
  {
   "cell_type": "markdown",
   "metadata": {},
   "source": [
    "<div class = \"alert alert-block alert-info\"\n",
    "    <b>21. Write a NumPy program to create a vector of length 5 filled with arbitrary integers from 0 to 10.</b>\n",
    "</div>   "
   ]
  },
  {
   "cell_type": "code",
   "execution_count": 23,
   "metadata": {},
   "outputs": [
    {
     "name": "stdout",
     "output_type": "stream",
     "text": [
      "Original array :\n",
      " [4 3 1 5 9] \n",
      "\n"
     ]
    }
   ],
   "source": [
    "x1 = np.random.randint(0,11,5)\n",
    "print(f\"Original array :\\n {x1} \\n\")"
   ]
  },
  {
   "cell_type": "markdown",
   "metadata": {},
   "source": [
    "<div class = \"alert alert-block alert-info\"\n",
    "    <b>22. Write a NumPy program to multiply the values of two given vectors.</b>\n",
    "</div>   "
   ]
  },
  {
   "cell_type": "code",
   "execution_count": 24,
   "metadata": {},
   "outputs": [
    {
     "name": "stdout",
     "output_type": "stream",
     "text": [
      "To multiply the values of two given vectors :\n",
      "[[ 6 14]\n",
      " [ 9  8]\n",
      " [20 36]] \n"
     ]
    }
   ],
   "source": [
    "w1 = np.array([[1,2],[3,4],[5,6]])\n",
    "w2 = np.array([[6,7],[3,2],[4,6]])\n",
    "\n",
    "print(f\"To multiply the values of two given vectors :\\n{w1*w2} \")"
   ]
  },
  {
   "cell_type": "markdown",
   "metadata": {},
   "source": [
    "<div class = \"alert alert-block alert-info\"\n",
    "    <b>23. Write a NumPy program to create a 3x4 matrix filled with values from 10 to 21.</b>\n",
    "</div>   "
   ]
  },
  {
   "cell_type": "code",
   "execution_count": 25,
   "metadata": {},
   "outputs": [
    {
     "name": "stdout",
     "output_type": "stream",
     "text": [
      "[[10 11 12 13]\n",
      " [14 15 16 17]\n",
      " [18 19 20 21]]\n"
     ]
    }
   ],
   "source": [
    "x1 = np.arange(10, 22).reshape((3, 4))\n",
    "print(x1)"
   ]
  },
  {
   "cell_type": "markdown",
   "metadata": {},
   "source": [
    "<div class = \"alert alert-block alert-info\"\n",
    "    <b>24. Write a NumPy program to find the number of rows and columns of a given matrix.</b>\n",
    "</div>   "
   ]
  },
  {
   "cell_type": "code",
   "execution_count": 26,
   "metadata": {},
   "outputs": [
    {
     "data": {
      "text/plain": [
       "(3, 4)"
      ]
     },
     "execution_count": 26,
     "metadata": {},
     "output_type": "execute_result"
    }
   ],
   "source": [
    "x1.shape"
   ]
  },
  {
   "cell_type": "markdown",
   "metadata": {},
   "source": [
    "<div class = \"alert alert-block alert-info\"\n",
    "    <b>25. Write a NumPy program to create a 3x3 identity matrix, i.e. diagonal elements are 1, the rest are 0.</b>\n",
    "</div>   "
   ]
  },
  {
   "cell_type": "code",
   "execution_count": 27,
   "metadata": {},
   "outputs": [
    {
     "name": "stdout",
     "output_type": "stream",
     "text": [
      "[[1 0 0]\n",
      " [0 1 0]\n",
      " [0 0 1]]\n"
     ]
    }
   ],
   "source": [
    "x2 = np.eye(3,dtype=int)\n",
    "print(x2)"
   ]
  },
  {
   "cell_type": "markdown",
   "metadata": {},
   "source": [
    "<div class = \"alert alert-block alert-info\"\n",
    "    <b>26. Write a NumPy program to create a 10x10 matrix, in which the elements on the borders will be\n",
    "equal to 1, and inside 0.</b>\n",
    "</div>   "
   ]
  },
  {
   "cell_type": "code",
   "execution_count": 28,
   "metadata": {},
   "outputs": [
    {
     "name": "stdout",
     "output_type": "stream",
     "text": [
      "Original array :\n",
      "[[0 0 0 0 0 0 0 0 0 0]\n",
      " [0 0 0 0 0 0 0 0 0 0]\n",
      " [0 0 0 0 0 0 0 0 0 0]\n",
      " [0 0 0 0 0 0 0 0 0 0]\n",
      " [0 0 0 0 0 0 0 0 0 0]\n",
      " [0 0 0 0 0 0 0 0 0 0]\n",
      " [0 0 0 0 0 0 0 0 0 0]\n",
      " [0 0 0 0 0 0 0 0 0 0]\n",
      " [0 0 0 0 0 0 0 0 0 0]\n",
      " [0 0 0 0 0 0 0 0 0 0]] \n",
      "\n",
      "\n",
      "The borders will be equal to 1, and inside 0:\n",
      "[[1 1 1 1 1 1 1 1 1 1]\n",
      " [1 0 0 0 0 0 0 0 0 1]\n",
      " [1 0 0 0 0 0 0 0 0 1]\n",
      " [1 0 0 0 0 0 0 0 0 1]\n",
      " [1 0 0 0 0 0 0 0 0 1]\n",
      " [1 0 0 0 0 0 0 0 0 1]\n",
      " [1 0 0 0 0 0 0 0 0 1]\n",
      " [1 0 0 0 0 0 0 0 0 1]\n",
      " [1 0 0 0 0 0 0 0 0 1]\n",
      " [1 1 1 1 1 1 1 1 1 1]]\n"
     ]
    }
   ],
   "source": [
    "x1 = np.zeros((10,10),dtype=int)\n",
    "print(f\"Original array :\\n{x1} \\n\")\n",
    "\n",
    "x1[0]=1\n",
    "x1[-1]=1\n",
    "x1[:,0]=1\n",
    "x1[:,-1]=1\n",
    "print(f\"\\nThe borders will be equal to 1, and inside 0:\\n{x1}\")"
   ]
  },
  {
   "cell_type": "markdown",
   "metadata": {},
   "source": [
    "<div class = \"alert alert-block alert-info\"\n",
    "    <b>27. Write a NumPy program to create a 5x5 zero matrix with elements on the main diagonal equal to 1, 2,\n",
    "3, 4, 5.</b>\n",
    "</div>   "
   ]
  },
  {
   "cell_type": "code",
   "execution_count": 29,
   "metadata": {},
   "outputs": [
    {
     "name": "stdout",
     "output_type": "stream",
     "text": [
      "[[1 0 0 0 0]\n",
      " [0 2 0 0 0]\n",
      " [0 0 3 0 0]\n",
      " [0 0 0 4 0]\n",
      " [0 0 0 0 5]]\n"
     ]
    }
   ],
   "source": [
    "x2 = np.diag([1, 2, 3, 4, 5])\n",
    "print(x2)"
   ]
  },
  {
   "cell_type": "markdown",
   "metadata": {},
   "source": [
    "<div class = \"alert alert-block alert-info\"\n",
    "    <b>28. Write a NumPy program to create a 3x3x3 array filled with arbitrary values.</b>\n",
    "</div>   "
   ]
  },
  {
   "cell_type": "code",
   "execution_count": 30,
   "metadata": {},
   "outputs": [
    {
     "name": "stdout",
     "output_type": "stream",
     "text": [
      "To create a 3x3x3 array filled with arbitrary values :\n",
      " [[[44  4 28]\n",
      "  [ 9 15 28]\n",
      "  [ 9 49  6]]\n",
      "\n",
      " [[ 5 47 23]\n",
      "  [25 17 41]\n",
      "  [19 28 37]]\n",
      "\n",
      " [[40 18 23]\n",
      "  [ 2  4 31]\n",
      "  [34 25 22]]]\n"
     ]
    }
   ],
   "source": [
    "x3 = np.random.randint(1,50,size=(3,3,3))\n",
    "print(f\"To create a 3x3x3 array filled with arbitrary values :\\n {x3}\")"
   ]
  },
  {
   "cell_type": "markdown",
   "metadata": {},
   "source": [
    "<div class = \"alert alert-block alert-info\"\n",
    "    <b>29. Write a NumPy program to compute the inner product of two given vectors.</b>\n",
    "</div>   "
   ]
  },
  {
   "cell_type": "code",
   "execution_count": 31,
   "metadata": {},
   "outputs": [
    {
     "name": "stdout",
     "output_type": "stream",
     "text": [
      "78\n"
     ]
    }
   ],
   "source": [
    "x = np.array([4, 5])\n",
    "y = np.array([7, 10])\n",
    "\n",
    "print(np.dot(x, y))"
   ]
  },
  {
   "cell_type": "markdown",
   "metadata": {},
   "source": [
    "<div class = \"alert alert-block alert-info\"\n",
    "    <b>30. Write a NumPy program to sort a given array by row and column in ascending order.</b>\n",
    "</div>   "
   ]
  },
  {
   "cell_type": "code",
   "execution_count": 32,
   "metadata": {},
   "outputs": [
    {
     "name": "stdout",
     "output_type": "stream",
     "text": [
      "Original array :\n",
      " [[2 3 8]\n",
      " [3 1 1]\n",
      " [7 7 3]] \n",
      "\n",
      "To sort a given array by row:\n",
      "[[2 3 8]\n",
      " [1 1 3]\n",
      " [3 7 7]]\n",
      "\n",
      "To sort a given array by column:\n",
      "[[2 1 1]\n",
      " [3 3 3]\n",
      " [7 7 8]]\n"
     ]
    }
   ],
   "source": [
    "arr1 = np.random.randint(1,10,size=(3,3))\n",
    "print(f\"Original array :\\n {arr1} \\n\")\n",
    "\n",
    "print(f\"To sort a given array by row:\\n{np.sort(arr1,axis=1)}\\n\")\n",
    "print(f\"To sort a given array by column:\\n{np.sort(arr1,axis=0)}\")"
   ]
  },
  {
   "cell_type": "markdown",
   "metadata": {},
   "source": [
    "<div class = \"alert alert-block alert-info\"\n",
    "    <b>31. Write a NumPy program to extract all numbers from a given array which are less and greater\n",
    "than a specified number.</b>\n",
    "</div>   "
   ]
  },
  {
   "cell_type": "code",
   "execution_count": 33,
   "metadata": {},
   "outputs": [
    {
     "name": "stdout",
     "output_type": "stream",
     "text": [
      "Original array :\n",
      " [[6 7 1]\n",
      " [6 7 3]\n",
      " [3 4 2]] \n",
      "\n",
      "Extract all numbers from a given array which are less:\n",
      " [1 3 3 4 2]\n",
      "Extract all numbers from a given array which are greater:\n",
      " [7 7]\n"
     ]
    }
   ],
   "source": [
    "arr2 = np.random.randint(1,10,size=(3,3))\n",
    "print(f\"Original array :\\n {arr2} \\n\")\n",
    "\n",
    "n = 6\n",
    "print(f\"Extract all numbers from a given array which are less:\\n {arr2[arr2<n]}\")\n",
    "\n",
    "print(f\"Extract all numbers from a given array which are greater:\\n {arr2[arr2>n]}\")"
   ]
  },
  {
   "cell_type": "markdown",
   "metadata": {},
   "source": [
    "<div class = \"alert alert-block alert-info\"\n",
    "    <b>32. Write a NumPy program to replace all numbers in a given array which is equal, less and greater to a\n",
    "given number.</b>\n",
    "</div>   "
   ]
  },
  {
   "cell_type": "code",
   "execution_count": 34,
   "metadata": {},
   "outputs": [
    {
     "name": "stdout",
     "output_type": "stream",
     "text": [
      "Original array :\n",
      " [[5 3 9]\n",
      " [8 4 4]\n",
      " [6 5 5]] \n",
      "\n"
     ]
    }
   ],
   "source": [
    "arr3 = np.random.randint(1,10,size=(3,3))\n",
    "print(f\"Original array :\\n {arr3} \\n\")"
   ]
  },
  {
   "cell_type": "code",
   "execution_count": 35,
   "metadata": {},
   "outputs": [
    {
     "name": "stdout",
     "output_type": "stream",
     "text": [
      "Replace 're' with if array ele is equal to n: \n",
      " [[ 5  3  9]\n",
      " [ 8 10 10]\n",
      " [ 6  5  5]]\n",
      "\n",
      "Replace 're' with if array ele is less to n: \n",
      " [[ 5 10  9]\n",
      " [ 8  4  4]\n",
      " [ 6  5  5]]\n",
      "\n",
      "Replace 're' with if array ele is greater to n: \n",
      " [[10  3 10]\n",
      " [10  4  4]\n",
      " [10 10 10]]\n",
      "\n"
     ]
    }
   ],
   "source": [
    "n = 4\n",
    "re = 10\n",
    "\n",
    "print(f\"Replace 're' with if array ele is equal to n: \\n {np.where(arr3 == n, re, arr3)}\\n\")\n",
    "print(f\"Replace 're' with if array ele is less to n: \\n {np.where(arr3 < n, re, arr3)}\\n\")\n",
    "print(f\"Replace 're' with if array ele is greater to n: \\n {np.where(arr3 > n, re, arr3)}\\n\")"
   ]
  },
  {
   "cell_type": "markdown",
   "metadata": {},
   "source": [
    "<div class = \"alert alert-block alert-info\"\n",
    "    <b>33. Write a NumPy program to create an array of equal shape and data type of a given array.</b>\n",
    "</div>   "
   ]
  },
  {
   "cell_type": "code",
   "execution_count": 36,
   "metadata": {},
   "outputs": [
    {
     "name": "stdout",
     "output_type": "stream",
     "text": [
      "x1 shape : (2, 2) & x1 dtype : int32\n",
      "x2 shape : (2, 2) & x2 dtype : int32\n"
     ]
    }
   ],
   "source": [
    "x1 = np.array([[1,2],[4,5]])\n",
    "x2 = np.copy(x1)\n",
    "\n",
    "print(f\"x1 shape : {x1.shape} & x1 dtype : {x1.dtype}\")\n",
    "print(f\"x2 shape : {x2.shape} & x2 dtype : {x2.dtype}\")"
   ]
  },
  {
   "cell_type": "markdown",
   "metadata": {},
   "source": [
    "<div class = \"alert alert-block alert-info\"\n",
    "    <b>34. Write a NumPy program to create a three-dimension array with shape (3,5,4) and set to a\n",
    "variable.</b>\n",
    "</div>   "
   ]
  },
  {
   "cell_type": "code",
   "execution_count": 37,
   "metadata": {},
   "outputs": [
    {
     "name": "stdout",
     "output_type": "stream",
     "text": [
      "Arrays:\n",
      "[[[32  1  1 29]\n",
      "  [19 31  3  9]\n",
      "  [16  9 30 29]\n",
      "  [10 49  8  1]\n",
      "  [44 23 18  4]]\n",
      "\n",
      " [[45 44  6 46]\n",
      "  [47 16 47 20]\n",
      "  [39 28 26 14]\n",
      "  [45 34 14  8]\n",
      "  [25 43 47 25]]\n",
      "\n",
      " [[15 37  1 27]\n",
      "  [32 36 44 28]\n",
      "  [38 40  7 10]\n",
      "  [13 15 40 24]\n",
      "  [39 19  7 16]]]\n"
     ]
    }
   ],
   "source": [
    "nums = np.random.randint(1,50,size=(3,5,4))\n",
    "print(f\"Arrays:\\n{nums}\")"
   ]
  },
  {
   "cell_type": "markdown",
   "metadata": {},
   "source": [
    "<div class = \"alert alert-block alert-info\"\n",
    "    <b>35. Write a NumPy program to multiply two given arrays of same size element-by-element.</b>\n",
    "</div>   "
   ]
  },
  {
   "cell_type": "code",
   "execution_count": 38,
   "metadata": {},
   "outputs": [
    {
     "name": "stdout",
     "output_type": "stream",
     "text": [
      "Multiply said arrays of same size element-by-element: \n",
      "\n",
      "[[10 15  8]\n",
      " [ 3 10 25]]\n"
     ]
    }
   ],
   "source": [
    "nums1 = np.array([[2, 5, 2],\n",
    "              [1, 5, 5]])\n",
    "\n",
    "nums2 = np.array([[5, 3, 4],\n",
    "              [3, 2, 5]])\n",
    "\n",
    "print(\"Multiply said arrays of same size element-by-element: \\n\")\n",
    "print(np.multiply(nums1, nums2)) "
   ]
  }
 ],
 "metadata": {
  "kernelspec": {
   "display_name": "Python 3",
   "language": "python",
   "name": "python3"
  },
  "language_info": {
   "codemirror_mode": {
    "name": "ipython",
    "version": 3
   },
   "file_extension": ".py",
   "mimetype": "text/x-python",
   "name": "python",
   "nbconvert_exporter": "python",
   "pygments_lexer": "ipython3",
   "version": "3.8.5"
  }
 },
 "nbformat": 4,
 "nbformat_minor": 4
}

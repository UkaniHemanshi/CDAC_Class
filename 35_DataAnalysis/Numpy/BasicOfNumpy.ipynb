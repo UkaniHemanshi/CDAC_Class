{
 "cells": [
  {
   "cell_type": "markdown",
   "metadata": {},
   "source": [
    "## Basic"
   ]
  },
  {
   "cell_type": "code",
   "execution_count": 1,
   "metadata": {},
   "outputs": [],
   "source": [
    "import numpy as np"
   ]
  },
  {
   "cell_type": "code",
   "execution_count": 2,
   "metadata": {},
   "outputs": [
    {
     "data": {
      "text/plain": [
       "array([1, 2, 3])"
      ]
     },
     "execution_count": 2,
     "metadata": {},
     "output_type": "execute_result"
    }
   ],
   "source": [
    "arr = np.array([1,2,3])\n",
    "arr"
   ]
  },
  {
   "cell_type": "markdown",
   "metadata": {},
   "source": [
    "## Creating numpy array by three ways:"
   ]
  },
  {
   "cell_type": "markdown",
   "metadata": {},
   "source": [
    "### 1. Transform python list\n",
    "### 2. Use built-in functions\n",
    "### 3. Generate random date"
   ]
  },
  {
   "cell_type": "code",
   "execution_count": 3,
   "metadata": {},
   "outputs": [
    {
     "name": "stdout",
     "output_type": "stream",
     "text": [
      "[1 2 3 4]\n"
     ]
    }
   ],
   "source": [
    "# 1. Transform python list\n",
    "my_list = [1,2,3,4]\n",
    "print(np.array(my_list))"
   ]
  },
  {
   "cell_type": "code",
   "execution_count": 19,
   "metadata": {},
   "outputs": [
    {
     "name": "stdout",
     "output_type": "stream",
     "text": [
      "[1 2 3]\n"
     ]
    }
   ],
   "source": [
    "# -----1D\n",
    "import numpy as np\n",
    "a=np.array([1,2,3])\n",
    "print(a)"
   ]
  },
  {
   "cell_type": "code",
   "execution_count": 17,
   "metadata": {},
   "outputs": [
    {
     "name": "stdout",
     "output_type": "stream",
     "text": [
      "[[1 2]\n",
      " [3 4]]\n"
     ]
    }
   ],
   "source": [
    "#------2D\n",
    "b=np.array([[1,2],[3,4]])\n",
    "print(b)"
   ]
  },
  {
   "cell_type": "code",
   "execution_count": 20,
   "metadata": {},
   "outputs": [
    {
     "name": "stdout",
     "output_type": "stream",
     "text": [
      "[[1 2 3]\n",
      " [4 5 6]]\n"
     ]
    }
   ],
   "source": [
    "#------3D\n",
    "c=np.array([[1,2,3],[4,5,6]])\n",
    "print(c)"
   ]
  },
  {
   "cell_type": "code",
   "execution_count": 10,
   "metadata": {},
   "outputs": [
    {
     "name": "stdout",
     "output_type": "stream",
     "text": [
      "[1 2 3 4 5 6 7 8 9]\n",
      "[1 3 5 7 9]\n",
      "[  1.    25.75  50.5   75.25 100.  ]\n",
      "[ 0.  5. 10.]\n"
     ]
    }
   ],
   "source": [
    "# 2. Use built-in functions\n",
    "print(np.arange(1,10))\n",
    "print(np.arange(1,10,2))  # it doesn't include stop , step = how much we have to skip\n",
    "print(np.linspace(1,100,5))   # it include stop , step = np.size\n",
    "print(np.linspace(0,10,3))"
   ]
  },
  {
   "cell_type": "code",
   "execution_count": 14,
   "metadata": {},
   "outputs": [
    {
     "name": "stdout",
     "output_type": "stream",
     "text": [
      "[0. 0. 0.]\n",
      "[[1. 1. 1.]\n",
      " [1. 1. 1.]\n",
      " [1. 1. 1.]]\n"
     ]
    }
   ],
   "source": [
    "#  zeros and ones array generate\n",
    "print(np.zeros(3))\n",
    "print(np.ones((3,3)))"
   ]
  },
  {
   "cell_type": "code",
   "execution_count": 27,
   "metadata": {},
   "outputs": [
    {
     "name": "stdout",
     "output_type": "stream",
     "text": [
      "[0.67969204 0.54427582]\n",
      "[[0.18784934 0.61826346 0.37412777 0.93358217 0.6481412 ]\n",
      " [0.67179118 0.93157357 0.66998809 0.23212451 0.25583435]\n",
      " [0.22499182 0.08070066 0.18400024 0.72494937 0.99893064]\n",
      " [0.14317012 0.2207215  0.27845295 0.74705776 0.98048199]\n",
      " [0.77799509 0.69514283 0.94845494 0.07784826 0.21006527]]\n",
      "\n",
      "[1.07845754 0.59611431]\n",
      "[[-0.31396856  0.09306814 -0.46312169 -0.23982402  0.43208362]\n",
      " [ 0.28188703  0.23508651 -0.12795584 -1.59018911 -1.73259801]\n",
      " [-0.94299037 -0.54852224 -3.28966079  0.40039251 -0.72124738]\n",
      " [ 0.93093701  0.14248528  0.6168811  -0.00865908  2.22928578]\n",
      " [ 1.3972282   0.14397149  1.60438932 -0.07787215 -0.70016767]]\n",
      "\n",
      "53\n",
      "[96 40 82  1 65 95 95 20 31 55]\n",
      "\n",
      "[0.91910903 0.6421956  0.75371223 0.13931457]\n"
     ]
    }
   ],
   "source": [
    "# random number array\n",
    "print(np.random.rand(2))\n",
    "print(np.random.rand(5,5))\n",
    "\n",
    "print()\n",
    "print(np.random.randn(2))\n",
    "print(np.random.randn(5,5))\n",
    "\n",
    "print()\n",
    "print(np.random.randint(1,100))  # single random integer btn 1 to 100\n",
    "print(np.random.randint(1,100,10))  # 10 random integer btn 1 to 100\n",
    "\n",
    "print()\n",
    "np.random.seed(77)    # after using seed we all over world has same value of random number\n",
    "print(np.random.rand(4))"
   ]
  },
  {
   "cell_type": "code",
   "execution_count": 31,
   "metadata": {},
   "outputs": [
    {
     "name": "stdout",
     "output_type": "stream",
     "text": [
      "(25,)\n",
      "[[ 0  1  2  3  4]\n",
      " [ 5  6  7  8  9]\n",
      " [10 11 12 13 14]\n",
      " [15 16 17 18 19]\n",
      " [20 21 22 23 24]]\n"
     ]
    }
   ],
   "source": [
    "# reshape\n",
    "\n",
    "arr = np.arange(25)\n",
    "print(arr.shape)\n",
    "print(arr.reshape(5,5))"
   ]
  },
  {
   "cell_type": "code",
   "execution_count": 35,
   "metadata": {},
   "outputs": [
    {
     "name": "stdout",
     "output_type": "stream",
     "text": [
      "[0 1 2 3 4 5 6 7 8 9]\n",
      "[ 0  2  4  6  8 10 12 14 16 18]\n",
      "[0 0 0 0 0 0 0 0 0 0]\n",
      "[ 0  1  4  9 16 25 36 49 64 81]\n"
     ]
    }
   ],
   "source": [
    "arr = np.arange(0,10)\n",
    "print(arr)\n",
    "print(arr+arr)\n",
    "print(arr-arr)\n",
    "print(arr*arr)"
   ]
  },
  {
   "cell_type": "code",
   "execution_count": null,
   "metadata": {},
   "outputs": [],
   "source": []
  }
 ],
 "metadata": {
  "kernelspec": {
   "display_name": "Python 3",
   "language": "python",
   "name": "python3"
  },
  "language_info": {
   "codemirror_mode": {
    "name": "ipython",
    "version": 3
   },
   "file_extension": ".py",
   "mimetype": "text/x-python",
   "name": "python",
   "nbconvert_exporter": "python",
   "pygments_lexer": "ipython3",
   "version": "3.8.5"
  }
 },
 "nbformat": 4,
 "nbformat_minor": 4
}

{
 "cells": [
  {
   "cell_type": "code",
   "execution_count": 2,
   "metadata": {},
   "outputs": [],
   "source": [
    "import numpy as np"
   ]
  },
  {
   "cell_type": "markdown",
   "metadata": {},
   "source": [
    "##  1. array of 10 zeros\n"
   ]
  },
  {
   "cell_type": "code",
   "execution_count": 26,
   "metadata": {},
   "outputs": [
    {
     "name": "stdout",
     "output_type": "stream",
     "text": [
      "[0. 0. 0. 0. 0. 0. 0. 0. 0. 0.]\n",
      "[1. 1. 1. 1. 1. 1. 1. 1. 1. 1.]\n",
      "[5. 5. 5. 5. 5. 5. 5. 5. 5. 5.]\n",
      "[5 5 5 5 5 5 5 5 5 5]\n",
      "[10 11 12 13 14 15 16 17 18 19 20 21 22 23 24 25 26 27 28 29 30 31 32 33\n",
      " 34 35 36 37 38 39 40 41 42 43 44 45 46 47 48 49 50]\n",
      "[10. 11. 12. 13. 14. 15. 16. 17. 18. 19. 20. 21. 22. 23. 24. 25. 26. 27.\n",
      " 28. 29. 30. 31. 32. 33. 34. 35. 36. 37. 38. 39. 40. 41. 42. 43. 44. 45.\n",
      " 46. 47. 48. 49. 50.]\n",
      "[10 12 14 16 18 20 22 24 26 28 30 32 34 36 38 40 42 44 46 48 50]\n",
      "[10. 12. 14. 16. 18. 20. 22. 24. 26. 28. 30. 32. 34. 36. 38. 40. 42. 44.\n",
      " 46. 48. 50.]\n",
      "[[0 1 2]\n",
      " [3 4 5]\n",
      " [6 7 8]]\n",
      "[[5 7 4]\n",
      " [1 5 3]\n",
      " [3 1 2]]\n",
      "[[1. 0. 0.]\n",
      " [0. 1. 0.]\n",
      " [0. 0. 1.]]\n",
      "[0.84501945]\n",
      "[ 0.08545086  1.07348755 -1.37317693 -1.32341331 -0.34136133 -0.74466204\n",
      " -1.51634637  0.79554413  1.09310613 -0.34673082 -0.07453251  0.48511923\n",
      "  0.11191714  0.61497398  0.66349708  1.16640406 -0.18161008  0.03490244\n",
      " -1.31304541 -0.15727655  0.39503112 -0.15020656  0.98226998  0.78103962\n",
      "  0.09139449]\n",
      "[0.         0.05263158 0.10526316 0.15789474 0.21052632 0.26315789\n",
      " 0.31578947 0.36842105 0.42105263 0.47368421 0.52631579 0.57894737\n",
      " 0.63157895 0.68421053 0.73684211 0.78947368 0.84210526 0.89473684\n",
      " 0.94736842 1.        ]\n"
     ]
    }
   ],
   "source": [
    "arr1 = np.zeros(10)\n",
    "print(arr1)\n",
    "arr2 = np.ones(10)\n",
    "print(arr2)\n",
    "\n",
    "arr3 = np.ones(10)*5\n",
    "print(arr3)\n",
    "\n",
    "arr31 = np.full(10,5)\n",
    "print(arr31)\n",
    "\n",
    "arr4 = np.arange(10,51)\n",
    "print(arr4)\n",
    "\n",
    "arr5 = np.linspace(10,50,41)\n",
    "print(arr5)\n",
    "\n",
    "arr6 = np.arange(10,51,2)\n",
    "print(arr6)\n",
    "\n",
    "arr7 = np.linspace(10,50,21)\n",
    "print(arr7)\n",
    "\n",
    "arr8 = np.arange(0,9).reshape(3,3)\n",
    "print(arr8)\n",
    "\n",
    "arr9 = np.random.randint(0,8,size=(3,3))\n",
    "print(arr9)\n",
    "\n",
    "arr10 = np.eye(3)\n",
    "print(arr10)\n",
    "\n",
    "arr11 = np.random.rand(1)\n",
    "print(arr11)\n",
    "\n",
    "arr12 = np.random.randn(25)\n",
    "print(arr12)\n",
    "\n",
    "arr13 = np.linspace(0,1,20)\n",
    "print(arr13)"
   ]
  },
  {
   "cell_type": "code",
   "execution_count": null,
   "metadata": {},
   "outputs": [],
   "source": []
  }
 ],
 "metadata": {
  "kernelspec": {
   "display_name": "Python 3",
   "language": "python",
   "name": "python3"
  },
  "language_info": {
   "codemirror_mode": {
    "name": "ipython",
    "version": 3
   },
   "file_extension": ".py",
   "mimetype": "text/x-python",
   "name": "python",
   "nbconvert_exporter": "python",
   "pygments_lexer": "ipython3",
   "version": "3.8.5"
  }
 },
 "nbformat": 4,
 "nbformat_minor": 4
}

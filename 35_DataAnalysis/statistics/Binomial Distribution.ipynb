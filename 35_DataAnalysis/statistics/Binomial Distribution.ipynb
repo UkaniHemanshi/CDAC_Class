{
 "cells": [
  {
   "cell_type": "code",
   "execution_count": 5,
   "metadata": {},
   "outputs": [
    {
     "name": "stdout",
     "output_type": "stream",
     "text": [
      "The probability of getting exactly 3 student like python is: 0.3323\n"
     ]
    }
   ],
   "source": [
    "import numpy as np\n",
    "import pandas as pd\n",
    "from scipy.stats import binom\n",
    "\n",
    "# Define parameters\n",
    "n = 5  # number of trials [Total Number of students]\n",
    "p = 0.66  # probability of success [Probability that a student likes python]\n",
    "k = 3  # number of successes [Number of students who like python]\n",
    "\n",
    "# Calculate the binomial probability\n",
    "probability = binom.pmf(k, n, p)\n",
    "\n",
    "print(f\"The probability of getting exactly {k} student like python is: {probability:.4f}\")\n"
   ]
  },
  {
   "cell_type": "code",
   "execution_count": 8,
   "metadata": {},
   "outputs": [
    {
     "data": {
      "text/plain": [
       "0.11722149140624999"
      ]
     },
     "execution_count": 8,
     "metadata": {},
     "output_type": "execute_result"
    }
   ],
   "source": [
    "p = 0.55\n",
    "n = 7\n",
    "k = 2\n",
    "probability = binom.pmf(k,n,p)\n",
    "probability"
   ]
  },
  {
   "cell_type": "code",
   "execution_count": 12,
   "metadata": {},
   "outputs": [],
   "source": [
    "from scipy.stats import binom\n",
    "import matplotlib.pyplot as plt\n",
    "import numpy as np\n",
    "\n",
    "tips_df = pd.read_csv('tips.csv')\n",
    "def classify_tip(row):\n",
    "    total_bill = row['total_bill']\n",
    "    tip = row['tip']\n",
    "    if(tip/total_bill) > 0.15:\n",
    "        return 1\n",
    "    else:\n",
    "        return 0\n",
    "    \n",
    "    \n",
    "tips_df['tip_binary'] = tips_df.apply(classify_tip, axis=1)\n",
    "n = len(tips_df)\n",
    "k = tips_df['tip_binary'].sum()\n",
    "p = k/n\n",
    "trials = 100\n",
    "x = np.arange(0, trials + 1)\n",
    "\n",
    "pmf_values = binom.pmf(x,trials,p)\n",
    "cumulative_propability = 0\n"
   ]
  },
  {
   "cell_type": "code",
   "execution_count": 24,
   "metadata": {},
   "outputs": [
    {
     "name": "stdout",
     "output_type": "stream",
     "text": [
      "probability for 0 successs=0.000000.....cumulative probability = 0.000000\n",
      "probability for 1 successs=0.000000.....cumulative probability = 0.000000\n",
      "probability for 2 successs=0.000000.....cumulative probability = 0.000000\n",
      "probability for 3 successs=0.000000.....cumulative probability = 0.000000\n",
      "probability for 4 successs=0.000000.....cumulative probability = 0.000000\n",
      "probability for 5 successs=0.000000.....cumulative probability = 0.000000\n",
      "probability for 6 successs=0.000000.....cumulative probability = 0.000000\n",
      "probability for 7 successs=0.000000.....cumulative probability = 0.000000\n",
      "probability for 8 successs=0.000000.....cumulative probability = 0.000000\n",
      "probability for 9 successs=0.000000.....cumulative probability = 0.000000\n",
      "probability for 10 successs=0.000000.....cumulative probability = 0.000000\n",
      "probability for 11 successs=0.000000.....cumulative probability = 0.000000\n",
      "probability for 12 successs=0.000000.....cumulative probability = 0.000000\n",
      "probability for 13 successs=0.000000.....cumulative probability = 0.000000\n",
      "probability for 14 successs=0.000000.....cumulative probability = 0.000000\n",
      "probability for 15 successs=0.000000.....cumulative probability = 0.000000\n",
      "probability for 16 successs=0.000000.....cumulative probability = 0.000000\n",
      "probability for 17 successs=0.000000.....cumulative probability = 0.000000\n",
      "probability for 18 successs=0.000000.....cumulative probability = 0.000000\n",
      "probability for 19 successs=0.000000.....cumulative probability = 0.000000\n",
      "probability for 20 successs=0.000000.....cumulative probability = 0.000000\n",
      "probability for 21 successs=0.000000.....cumulative probability = 0.000000\n",
      "probability for 22 successs=0.000000.....cumulative probability = 0.000000\n",
      "probability for 23 successs=0.000000.....cumulative probability = 0.000000\n",
      "probability for 24 successs=0.000000.....cumulative probability = 0.000000\n",
      "probability for 25 successs=0.000000.....cumulative probability = 0.000000\n",
      "probability for 26 successs=0.000000.....cumulative probability = 0.000000\n",
      "probability for 27 successs=0.000000.....cumulative probability = 0.000000\n",
      "probability for 28 successs=0.000000.....cumulative probability = 0.000000\n",
      "probability for 29 successs=0.000000.....cumulative probability = 0.000000\n",
      "probability for 30 successs=0.000000.....cumulative probability = 0.000000\n",
      "probability for 31 successs=0.000001.....cumulative probability = 0.000001\n",
      "probability for 32 successs=0.000001.....cumulative probability = 0.000002\n",
      "probability for 33 successs=0.000003.....cumulative probability = 0.000006\n",
      "probability for 34 successs=0.000008.....cumulative probability = 0.000014\n",
      "probability for 35 successs=0.000020.....cumulative probability = 0.000034\n",
      "probability for 36 successs=0.000044.....cumulative probability = 0.000078\n",
      "probability for 37 successs=0.000094.....cumulative probability = 0.000172\n",
      "probability for 38 successs=0.000194.....cumulative probability = 0.000366\n",
      "probability for 39 successs=0.000382.....cumulative probability = 0.000748\n",
      "probability for 40 successs=0.000721.....cumulative probability = 0.001470\n",
      "probability for 41 successs=0.001307.....cumulative probability = 0.002777\n",
      "probability for 42 successs=0.002275.....cumulative probability = 0.005052\n",
      "probability for 43 successs=0.003800.....cumulative probability = 0.008852\n",
      "probability for 44 successs=0.006097.....cumulative probability = 0.014949\n",
      "probability for 45 successs=0.009397.....cumulative probability = 0.024346\n",
      "probability for 46 successs=0.013916.....cumulative probability = 0.038262\n",
      "probability for 47 successs=0.019803.....cumulative probability = 0.058065\n",
      "probability for 48 successs=0.027081.....cumulative probability = 0.085146\n",
      "probability for 49 successs=0.035594.....cumulative probability = 0.120740\n",
      "probability for 50 successs=0.044966.....cumulative probability = 0.165706\n",
      "probability for 51 successs=0.054600.....cumulative probability = 0.220306\n",
      "probability for 52 successs=0.063722.....cumulative probability = 0.284028\n",
      "probability for 53 successs=0.071477.....cumulative probability = 0.355505\n",
      "probability for 54 successs=0.077051.....cumulative probability = 0.432555\n",
      "probability for 55 successs=0.079814.....cumulative probability = 0.512369\n",
      "probability for 56 successs=0.079435.....cumulative probability = 0.591804\n",
      "probability for 57 successs=0.075944.....cumulative probability = 0.667748\n",
      "probability for 58 successs=0.069734.....cumulative probability = 0.737482\n",
      "probability for 59 successs=0.061482.....cumulative probability = 0.798964\n",
      "probability for 60 successs=0.052034.....cumulative probability = 0.850998\n",
      "probability for 61 successs=0.042260.....cumulative probability = 0.893257\n",
      "probability for 62 successs=0.032923.....cumulative probability = 0.926180\n",
      "probability for 63 successs=0.024595.....cumulative probability = 0.950776\n",
      "probability for 64 successs=0.017611.....cumulative probability = 0.968387\n",
      "probability for 65 successs=0.012080.....cumulative probability = 0.980467\n",
      "probability for 66 successs=0.007934.....cumulative probability = 0.988402\n",
      "probability for 67 successs=0.004987.....cumulative probability = 0.993388\n",
      "probability for 68 successs=0.002997.....cumulative probability = 0.996386\n",
      "probability for 69 successs=0.001722.....cumulative probability = 0.998107\n",
      "probability for 70 successs=0.000944.....cumulative probability = 0.999052\n",
      "probability for 71 successs=0.000494.....cumulative probability = 0.999546\n",
      "probability for 72 successs=0.000247.....cumulative probability = 0.999792\n",
      "probability for 73 successs=0.000117.....cumulative probability = 0.999910\n",
      "probability for 74 successs=0.000053.....cumulative probability = 0.999962\n",
      "probability for 75 successs=0.000023.....cumulative probability = 0.999985\n",
      "probability for 76 successs=0.000009.....cumulative probability = 0.999994\n",
      "probability for 77 successs=0.000004.....cumulative probability = 0.999998\n",
      "probability for 78 successs=0.000001.....cumulative probability = 0.999999\n",
      "probability for 79 successs=0.000000.....cumulative probability = 1.000000\n",
      "probability for 80 successs=0.000000.....cumulative probability = 1.000000\n",
      "probability for 81 successs=0.000000.....cumulative probability = 1.000000\n",
      "probability for 82 successs=0.000000.....cumulative probability = 1.000000\n",
      "probability for 83 successs=0.000000.....cumulative probability = 1.000000\n",
      "probability for 84 successs=0.000000.....cumulative probability = 1.000000\n",
      "probability for 85 successs=0.000000.....cumulative probability = 1.000000\n",
      "probability for 86 successs=0.000000.....cumulative probability = 1.000000\n",
      "probability for 87 successs=0.000000.....cumulative probability = 1.000000\n",
      "probability for 88 successs=0.000000.....cumulative probability = 1.000000\n",
      "probability for 89 successs=0.000000.....cumulative probability = 1.000000\n",
      "probability for 90 successs=0.000000.....cumulative probability = 1.000000\n",
      "probability for 91 successs=0.000000.....cumulative probability = 1.000000\n",
      "probability for 92 successs=0.000000.....cumulative probability = 1.000000\n",
      "probability for 93 successs=0.000000.....cumulative probability = 1.000000\n",
      "probability for 94 successs=0.000000.....cumulative probability = 1.000000\n",
      "probability for 95 successs=0.000000.....cumulative probability = 1.000000\n",
      "probability for 96 successs=0.000000.....cumulative probability = 1.000000\n",
      "probability for 97 successs=0.000000.....cumulative probability = 1.000000\n",
      "probability for 98 successs=0.000000.....cumulative probability = 1.000000\n",
      "probability for 99 successs=0.000000.....cumulative probability = 1.000000\n",
      "probability for 100 successs=0.000000.....cumulative probability = 1.000000\n"
     ]
    },
    {
     "data": {
      "image/png": "[encoded data removed]",
      "text/plain": [
       "<Figure size 432x288 with 1 Axes>"
      ]
     },
     "metadata": {
      "needs_background": "light"
     },
     "output_type": "display_data"
    }
   ],
   "source": [
    "dhamik = []\n",
    "hemli = []\n",
    "for i in x:\n",
    "    cumulative_propability = binom.cdf(i,trials,p)\n",
    "    \n",
    "    print(f\"probability for {i} successs={pmf_values[i]:.6f}.....cumulative probability = {cumulative_propability:.6f}\")\n",
    "    hemli.append(pmf_values[i])\n",
    "    d.append(cumulative_propability)\n",
    "plt.plot(hemli,dhamik)   \n",
    "plt.show()\n"
   ]
  },
  {
   "cell_type": "code",
   "execution_count": null,
   "metadata": {},
   "outputs": [],
   "source": []
  }
 ],
 "metadata": {
  "kernelspec": {
   "display_name": "Python 3",
   "language": "python",
   "name": "python3"
  },
  "language_info": {
   "codemirror_mode": {
    "name": "ipython",
    "version": 3
   },
   "file_extension": ".py",
   "mimetype": "text/x-python",
   "name": "python",
   "nbconvert_exporter": "python",
   "pygments_lexer": "ipython3",
   "version": "3.8.5"
  }
 },
 "nbformat": 4,
 "nbformat_minor": 4
}

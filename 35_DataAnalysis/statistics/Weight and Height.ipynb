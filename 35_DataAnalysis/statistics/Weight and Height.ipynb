{
 "cells": [
  {
   "cell_type": "code",
   "execution_count": 1,
   "metadata": {},
   "outputs": [
    {
     "name": "stderr",
     "output_type": "stream",
     "text": [
      "C:\\Users\\DAI.STUDENTSDC\\AppData\\Roaming\\Python\\Python38\\site-packages\\pandas\\core\\computation\\expressions.py:20: UserWarning: Pandas requires version '2.7.3' or newer of 'numexpr' (version '2.7.1' currently installed).\n",
      "  from pandas.core.computation.check import NUMEXPR_INSTALLED\n"
     ]
    }
   ],
   "source": [
    "import pandas as pd\n",
    "import numpy as np\n",
    "import matplotlib.pyplot as plt"
   ]
  },
  {
   "cell_type": "code",
   "execution_count": 2,
   "metadata": {},
   "outputs": [
    {
     "data": {
      "text/html": [
       "<div>\n",
       "<style scoped>\n",
       "    .dataframe tbody tr th:only-of-type {\n",
       "        vertical-align: middle;\n",
       "    }\n",
       "\n",
       "    .dataframe tbody tr th {\n",
       "        vertical-align: top;\n",
       "    }\n",
       "\n",
       "    .dataframe thead th {\n",
       "        text-align: right;\n",
       "    }\n",
       "</style>\n",
       "<table border=\"1\" class=\"dataframe\">\n",
       "  <thead>\n",
       "    <tr style=\"text-align: right;\">\n",
       "      <th></th>\n",
       "      <th>Gender</th>\n",
       "      <th>Height</th>\n",
       "      <th>Weight</th>\n",
       "    </tr>\n",
       "  </thead>\n",
       "  <tbody>\n",
       "    <tr>\n",
       "      <th>0</th>\n",
       "      <td>Male</td>\n",
       "      <td>73.847017</td>\n",
       "      <td>241.893563</td>\n",
       "    </tr>\n",
       "    <tr>\n",
       "      <th>1</th>\n",
       "      <td>Male</td>\n",
       "      <td>68.781904</td>\n",
       "      <td>162.310473</td>\n",
       "    </tr>\n",
       "    <tr>\n",
       "      <th>2</th>\n",
       "      <td>Male</td>\n",
       "      <td>74.110105</td>\n",
       "      <td>212.740856</td>\n",
       "    </tr>\n",
       "    <tr>\n",
       "      <th>3</th>\n",
       "      <td>Male</td>\n",
       "      <td>71.730978</td>\n",
       "      <td>220.042470</td>\n",
       "    </tr>\n",
       "    <tr>\n",
       "      <th>4</th>\n",
       "      <td>Male</td>\n",
       "      <td>69.881796</td>\n",
       "      <td>206.349801</td>\n",
       "    </tr>\n",
       "  </tbody>\n",
       "</table>\n",
       "</div>"
      ],
      "text/plain": [
       "  Gender     Height      Weight\n",
       "0   Male  73.847017  241.893563\n",
       "1   Male  68.781904  162.310473\n",
       "2   Male  74.110105  212.740856\n",
       "3   Male  71.730978  220.042470\n",
       "4   Male  69.881796  206.349801"
      ]
     },
     "execution_count": 2,
     "metadata": {},
     "output_type": "execute_result"
    }
   ],
   "source": [
    "df = pd.read_csv('weight-height.csv')\n",
    "df.head()"
   ]
  },
  {
   "cell_type": "code",
   "execution_count": 3,
   "metadata": {},
   "outputs": [],
   "source": [
    "df_male = df[df['Gender']==\"Male\"]\n",
    "df_female = df[df['Gender']==\"Female\"]\n"
   ]
  },
  {
   "cell_type": "code",
   "execution_count": 4,
   "metadata": {},
   "outputs": [],
   "source": [
    "corr_overall = df[['Height','Weight']].corr()\n",
    "corr_male = df_male[['Height','Weight']].corr()\n",
    "corr_female = df_female[['Height','Weight']].corr()\n"
   ]
  },
  {
   "cell_type": "code",
   "execution_count": 5,
   "metadata": {},
   "outputs": [],
   "source": [
    "cov_overall = df[['Height','Weight']].cov()\n",
    "cov_male = df_male[['Height','Weight']].cov()\n",
    "cov_female = df_female[['Height','Weight']].cov()"
   ]
  },
  {
   "cell_type": "code",
   "execution_count": 6,
   "metadata": {},
   "outputs": [
    {
     "name": "stdout",
     "output_type": "stream",
     "text": [
      "overall corrleation between height and weight\n",
      "          Height    Weight\n",
      "Height  1.000000  0.924756\n",
      "Weight  0.924756  1.000000\n"
     ]
    }
   ],
   "source": [
    "print(\"overall corrleation between height and weight\")\n",
    "print(corr_overall)"
   ]
  },
  {
   "cell_type": "code",
   "execution_count": 7,
   "metadata": {},
   "outputs": [
    {
     "name": "stdout",
     "output_type": "stream",
     "text": [
      "male corrleation between height and weight\n",
      "          Height    Weight\n",
      "Height  1.000000  0.862979\n",
      "Weight  0.862979  1.000000\n"
     ]
    }
   ],
   "source": [
    "print(\"male corrleation between height and weight\")\n",
    "print(corr_male)"
   ]
  },
  {
   "cell_type": "code",
   "execution_count": 8,
   "metadata": {},
   "outputs": [
    {
     "name": "stdout",
     "output_type": "stream",
     "text": [
      "female corrleation between height and weight\n",
      "          Height    Weight\n",
      "Height  1.000000  0.849609\n",
      "Weight  0.849609  1.000000\n"
     ]
    }
   ],
   "source": [
    "print(\"female corrleation between height and weight\")\n",
    "print(corr_female)"
   ]
  },
  {
   "cell_type": "code",
   "execution_count": 11,
   "metadata": {},
   "outputs": [
    {
     "name": "stdout",
     "output_type": "stream",
     "text": [
      "overall covariance between height and weight\n",
      "            Height       Weight\n",
      "Height   14.803473   114.242656\n",
      "Weight  114.242656  1030.951855\n"
     ]
    }
   ],
   "source": [
    "print(\"overall covariance between height and weight\")\n",
    "print(cov_overall)"
   ]
  },
  {
   "cell_type": "code",
   "execution_count": 12,
   "metadata": {},
   "outputs": [
    {
     "name": "stdout",
     "output_type": "stream",
     "text": [
      "male covariance between height and weight\n",
      "           Height      Weight\n",
      "Height   8.198843   48.879649\n",
      "Weight  48.879649  391.294074\n"
     ]
    }
   ],
   "source": [
    "print(\"male covariance between height and weight\")\n",
    "print(cov_male)"
   ]
  },
  {
   "cell_type": "code",
   "execution_count": 13,
   "metadata": {},
   "outputs": [
    {
     "name": "stdout",
     "output_type": "stream",
     "text": [
      "female covariance between height and weight\n",
      "           Height      Weight\n",
      "Height   7.269947   43.576404\n",
      "Weight  43.576404  361.854281\n"
     ]
    }
   ],
   "source": [
    "print(\"female covariance between height and weight\")\n",
    "print(cov_female)"
   ]
  },
  {
   "cell_type": "code",
   "execution_count": 18,
   "metadata": {},
   "outputs": [
    {
     "data": {
      "image/png": "[encoded data removed]",
      "text/plain": [
       "<Figure size 720x360 with 3 Axes>"
      ]
     },
     "metadata": {
      "needs_background": "light"
     },
     "output_type": "display_data"
    }
   ],
   "source": [
    "fig, axes = plt.subplots(1,3, figsize=(10,5))\n",
    "axes[0].scatter(df['Height'],df['Weight'],color='blue',alpha=0.5)\n",
    "axes[0].set_title(f\"overall correlation:{corr_overall.loc['Height','Weight']:.2f}\")\n",
    "axes[0].set_xlabel('Height')\n",
    "axes[0].set_ylabel('weight')\n",
    "axes[0].grid(True)\n",
    "\n",
    "axes[1].scatter(df['Height'],df['Weight'],color='red',alpha=0.5)\n",
    "axes[1].set_title(f\"male correlation:{corr_male.loc['Height','Weight']:.2f}\")\n",
    "axes[1].set_xlabel('Height')\n",
    "axes[1].set_ylabel('weight')\n",
    "axes[1].grid(True)\n",
    "\n",
    "axes[2].scatter(df['Height'],df['Weight'],color='green',alpha=0.5)\n",
    "axes[2].set_title(f\"female correlation:{corr_female.loc['Height','Weight']:.2f}\")\n",
    "axes[2].set_xlabel('Height')\n",
    "axes[2].set_ylabel('weight')\n",
    "axes[2].grid(True)\n",
    "\n",
    "plt.tight_layout()\n",
    "plt.show()"
   ]
  },
  {
   "cell_type": "code",
   "execution_count": null,
   "metadata": {},
   "outputs": [],
   "source": []
  }
 ],
 "metadata": {
  "kernelspec": {
   "display_name": "Python 3",
   "language": "python",
   "name": "python3"
  },
  "language_info": {
   "codemirror_mode": {
    "name": "ipython",
    "version": 3
   },
   "file_extension": ".py",
   "mimetype": "text/x-python",
   "name": "python",
   "nbconvert_exporter": "python",
   "pygments_lexer": "ipython3",
   "version": "3.8.5"
  }
 },
 "nbformat": 4,
 "nbformat_minor": 4
}

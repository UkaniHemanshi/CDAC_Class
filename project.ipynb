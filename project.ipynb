{
 "cells": [
  {
   "cell_type": "code",
   "execution_count": 1,
   "id": "2b3c59a8",
   "metadata": {},
   "outputs": [],
   "source": [
    "from urllib.request import urlopen\n",
    "from bs4 import BeautifulSoup as soup\n",
    "import matplotlib.pyplot as plt\n",
    "import re"
   ]
  },
  {
   "cell_type": "code",
   "execution_count": 2,
   "id": "4fef33e7",
   "metadata": {},
   "outputs": [],
   "source": [
    "# # reading first page url\n",
    "\n",
    "httpObject=urlopen(\"https://en.wikipedia.org/wiki/Google\")\n",
    "data = httpObject.read()"
   ]
  },
  {
   "cell_type": "code",
   "execution_count": 3,
   "id": "f252697d",
   "metadata": {},
   "outputs": [],
   "source": [
    "# link_soup = soup(data)\n",
    "# # link_soup"
   ]
  },
  {
   "cell_type": "code",
   "execution_count": 4,
   "id": "fe0e6bcb",
   "metadata": {},
   "outputs": [],
   "source": [
    "comman_link='https://en.wikipedia.org/wiki/'\n",
    "lst = ['Microsoft','Starbucks','Apple_Inc.','Netflix']\n",
    "for i in lst:\n",
    "    link=comman_link+str(i)\n",
    "    page_url = urlopen(link)\n",
    "    webdata = page_url.read()\n",
    "    data += webdata"
   ]
  },
  {
   "cell_type": "code",
   "execution_count": 5,
   "id": "e3853c10",
   "metadata": {},
   "outputs": [],
   "source": [
    "soupdata = soup(data,'html.parser')  # like str(738437)"
   ]
  },
  {
   "cell_type": "code",
   "execution_count": 6,
   "id": "4d0762e9",
   "metadata": {},
   "outputs": [
    {
     "name": "stdout",
     "output_type": "stream",
     "text": [
      "5 <class 'bs4.element.ResultSet'>\n"
     ]
    }
   ],
   "source": [
    "containers=soupdata.findAll('div',{\"class\":\"mw-page-container\"}) # type(container)==It is as list  # containers having all page data which having class is this\n",
    "print(len(containers),type(containers))"
   ]
  },
  {
   "cell_type": "code",
   "execution_count": 17,
   "id": "b4876389",
   "metadata": {},
   "outputs": [
    {
     "name": "stdout",
     "output_type": "stream",
     "text": [
      "Google\n",
      "\n",
      "\n",
      "Microsoft\n",
      "\n",
      "\n",
      "Starbucks\n",
      "\n",
      "\n",
      "Apple Inc.\n",
      "\n",
      "\n",
      "Netflix\n",
      "\n",
      "\n"
     ]
    }
   ],
   "source": [
    "f=open('company_details.csv','wb')   # writing in binary mode with particular csv file\n",
    "f.write(\"CompanyName,Website,\\n\".encode()) #give a heading\n",
    "for container in containers:\n",
    "    \n",
    "    # name of company\n",
    "    name = container.find('span',{'class':'mw-page-title-main'})\n",
    "    CompanyName = name.text.strip()\n",
    "    print(CompanyName)\n",
    "    \n",
    "    \n",
    "    # website\n",
    "    Website = 'https://en.wikipedia.org/wiki/'+ CompanyName.replace(' ','_')\n",
    "\n",
    "    f.write(f\"{CompanyName},{Website}\\n\".encode())\n",
    "    print('\\n')\n",
    "f.close()"
   ]
  },
  {
   "cell_type": "code",
   "execution_count": null,
   "id": "072331a5",
   "metadata": {},
   "outputs": [],
   "source": []
  }
 ],
 "metadata": {
  "kernelspec": {
   "display_name": "Python 3",
   "language": "python",
   "name": "python3"
  },
  "language_info": {
   "codemirror_mode": {
    "name": "ipython",
    "version": 3
   },
   "file_extension": ".py",
   "mimetype": "text/x-python",
   "name": "python",
   "nbconvert_exporter": "python",
   "pygments_lexer": "ipython3",
   "version": "3.8.8"
  }
 },
 "nbformat": 4,
 "nbformat_minor": 5
}
